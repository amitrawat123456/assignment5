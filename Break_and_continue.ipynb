{
 "cells": [
  {
   "cell_type": "code",
   "execution_count": 2,
   "id": "a789bcf1-467c-4eff-878f-96a3bea53759",
   "metadata": {},
   "outputs": [
    {
     "name": "stdout",
     "output_type": "stream",
     "text": [
      "numbers = : 1\n",
      "numbers = : 2\n",
      "numbers = : 3\n",
      "numbers = : 4\n",
      "numbers = : 5\n"
     ]
    }
   ],
   "source": [
    "# Write a program to print numbers from 1 to 10, but stop if the number is 5\n",
    "for i in range(1,10+1):\n",
    "    print(\"numbers = :\",i)\n",
    "    if i==5:\n",
    "        break\n"
   ]
  },
  {
   "cell_type": "code",
   "execution_count": 4,
   "id": "b85b7984-45bd-4b1a-9ede-7f5dac9a2834",
   "metadata": {},
   "outputs": [
    {
     "name": "stdout",
     "output_type": "stream",
     "text": [
      "12 4 5 52 1 89 "
     ]
    }
   ],
   "source": [
    "# Write a program to iterate through a list and stop when encountering a specific element\n",
    "user_list = [12,4,5,52,1,89,13,1344,1,4,1,34,45]\n",
    "target = 89\n",
    "for element in user_list:\n",
    "    print( element , end=\" \")\n",
    "    if element == target:\n",
    "        break\n"
   ]
  },
  {
   "cell_type": "code",
   "execution_count": 10,
   "id": "54776536-eb4b-44f6-b18c-c15c8fa92e4a",
   "metadata": {},
   "outputs": [
    {
     "name": "stdout",
     "output_type": "stream",
     "text": [
      "1 3 5 7 9 "
     ]
    }
   ],
   "source": [
    "#  Write a program to skip printing even numbers from 1 to 10.\n",
    "for num in range(1,10+1):\n",
    "    if num%2==0:\n",
    "        continue\n",
    "    print(num , end = \" \")\n",
    "\n",
    "    "
   ]
  },
  {
   "cell_type": "code",
   "execution_count": 12,
   "id": "689fef48-f97c-4174-914f-a6f16ed78677",
   "metadata": {},
   "outputs": [
    {
     "name": "stdout",
     "output_type": "stream",
     "text": [
      "0 1 2 3 4 5 6 7 8 9 "
     ]
    }
   ],
   "source": [
    "# Write a program to print numbers from 0 to 9 using range().\n",
    "\n",
    "for num in range(0,9+1):\n",
    "    print(num, end=\" \")"
   ]
  },
  {
   "cell_type": "code",
   "execution_count": 15,
   "id": "7337cc49-ba2f-4d15-bca2-3b78824d5426",
   "metadata": {},
   "outputs": [
    {
     "name": "stdout",
     "output_type": "stream",
     "text": [
      "1 * 1 = 1  \n",
      "2 * 1 = 2  \n",
      "3 * 1 = 3  \n",
      "4 * 1 = 4  \n",
      "5 * 1 = 5  \n"
     ]
    }
   ],
   "source": [
    "# Write a program to print multiplication tables from 1 to 5, but stop after the first table is printed for each\n",
    " # number.\n",
    " \n",
    "for row in range(1,5+1):\n",
    "    for colum in range(1, 3):\n",
    "        result = row * colum\n",
    "        print(f\"{row} * {colum} = {result} \", end = \" \")\n",
    "        break\n",
    "    print()\n"
   ]
  },
  {
   "cell_type": "code",
   "execution_count": 1,
   "id": "e2ac21ea-c938-439a-ae47-73b3ee141f71",
   "metadata": {},
   "outputs": [
    {
     "name": "stdin",
     "output_type": "stream",
     "text": [
      "Enter the number: 10\n"
     ]
    },
    {
     "name": "stdout",
     "output_type": "stream",
     "text": [
      "1 3 5 7 9 "
     ]
    }
   ],
   "source": [
    "# Write a program to skip printing even numbers using a while loop\n",
    "num = int(input(\"Enter the number:\"))\n",
    "i =0\n",
    "\n",
    "while i<num:\n",
    "    i+=1\n",
    "    if i%2==0:\n",
    "        continue\n",
    "    print(i, end=\" \")"
   ]
  },
  {
   "cell_type": "code",
   "execution_count": null,
   "id": "78a8a8fb-ab35-4f72-b2c6-b1143b06d520",
   "metadata": {},
   "outputs": [],
   "source": []
  }
 ],
 "metadata": {
  "kernelspec": {
   "display_name": "Python 3 (ipykernel)",
   "language": "python",
   "name": "python3"
  },
  "language_info": {
   "codemirror_mode": {
    "name": "ipython",
    "version": 3
   },
   "file_extension": ".py",
   "mimetype": "text/x-python",
   "name": "python",
   "nbconvert_exporter": "python",
   "pygments_lexer": "ipython3",
   "version": "3.10.8"
  }
 },
 "nbformat": 4,
 "nbformat_minor": 5
}
